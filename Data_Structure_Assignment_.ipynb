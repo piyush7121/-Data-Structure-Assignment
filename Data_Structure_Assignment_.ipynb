{
  "nbformat": 4,
  "nbformat_minor": 0,
  "metadata": {
    "colab": {
      "provenance": []
    },
    "kernelspec": {
      "name": "python3",
      "display_name": "Python 3"
    },
    "language_info": {
      "name": "python"
    }
  },
  "cells": [
    {
      "cell_type": "markdown",
      "source": [
        "1.  What are data structures, and why are they important?"
      ],
      "metadata": {
        "id": "CDHQgL2CUCkg"
      }
    },
    {
      "cell_type": "markdown",
      "source": [
        "Data structures are specialized ways of organizing, managing, and storing data in a computer so that it can be accessed and modified efficiently. They are fundamental to computer science and software development.\n",
        "\n",
        "They are imp because=\n",
        "1.Efficiency\n",
        "2.Better Code Organization\n",
        "3.Problem Solving\n",
        "4.Scalability\n",
        "5.Real world applications and many more"
      ],
      "metadata": {
        "id": "Qbexqc4eURsc"
      }
    },
    {
      "cell_type": "markdown",
      "source": [
        "2.  Explain the difference between mutable and immutable data types with examples?"
      ],
      "metadata": {
        "id": "V4ABZ8w6VUZd"
      }
    },
    {
      "cell_type": "markdown",
      "source": [
        "| Feature         | Mutable               | Immutable             |\n",
        "| --------------- | --------------------- | --------------------- |\n",
        "| Can be changed? | Yes                   | No                    |\n",
        "| Memory behavior | Modified in-place     | New object created    |\n",
        "| Examples        | `list`, `dict`, `set` | `int`, `str`, `tuple` |\n"
      ],
      "metadata": {
        "id": "19upYIyoVZWK"
      }
    },
    {
      "cell_type": "markdown",
      "source": [
        "3.  What are the main differences between lists and tuples in Python?"
      ],
      "metadata": {
        "id": "SQBYnd2BVmKa"
      }
    },
    {
      "cell_type": "markdown",
      "source": [
        "In Python, lists and tuples are both used to store collections of items, but they differ in several important ways. The main difference is that lists are mutable, meaning their contents can be changed after creation—you can add, remove, or modify elements. In contrast, tuples are immutable, which means once they are created, their contents cannot be changed. Lists use square brackets (e.g., [1, 2, 3]), while tuples use parentheses (e.g., (1, 2, 3)). Because of their immutability, tuples are generally faster and more memory-efficient than lists, making them useful in situations where performance matters and the data doesn't need to change. Additionally, tuples can be used as keys in dictionaries or stored in sets, while lists cannot, since lists are unhashable. Lists offer more built-in methods like append() and remove(), which makes them more flexible for dynamic data manipulation. In summary, use lists when you need a collection of items that may change, and use tuples when you want a fixed, unchangeable group of elements."
      ],
      "metadata": {
        "id": "Q5fvB8LDVzRq"
      }
    },
    {
      "cell_type": "markdown",
      "source": [
        "4. Describe how dictionaries store data?"
      ],
      "metadata": {
        "id": "6oV-6ghBWPLP"
      }
    },
    {
      "cell_type": "markdown",
      "source": [
        "Dictionaries stores data in key-value pairs."
      ],
      "metadata": {
        "id": "RjDpWvCgWBHH"
      }
    },
    {
      "cell_type": "markdown",
      "source": [
        "5. Why might you use a set instead of a list in Python?"
      ],
      "metadata": {
        "id": "xT2VcE5iYqOa"
      }
    },
    {
      "cell_type": "markdown",
      "source": [
        "You might use a set instead of a list in Python when you need to store a collection of unique elements and do not need to maintain any particular order. Sets automatically eliminate duplicates, so they are useful when you want to ensure that no item appears more than once."
      ],
      "metadata": {
        "id": "2zosaz7aYr3i"
      }
    },
    {
      "cell_type": "markdown",
      "source": [
        "6. What is a string in Python, and how is it different from a list?"
      ],
      "metadata": {
        "id": "_lRZ4hS3ZBAP"
      }
    },
    {
      "cell_type": "markdown",
      "source": [
        "In Python, a string is a sequence of characters enclosed in quotes, such as \"hello\" or 'Python3'. Strings are used to represent textual data, and they are immutable\n",
        "A list, on the other hand, is a sequence of elements that can include any data type, such as numbers, strings, or even other lists. Lists are mutable, so you can change, add, or remove elements after the list is created."
      ],
      "metadata": {
        "id": "xGiyjYQsY9TY"
      }
    },
    {
      "cell_type": "markdown",
      "source": [
        "7. How do tuples ensure data integrity in Python?"
      ],
      "metadata": {
        "id": "PvNY_pEyZYDZ"
      }
    },
    {
      "cell_type": "markdown",
      "source": [
        "Tuples help ensure data integrity in Python because they are immutable, meaning their contents cannot be changed after they are created. Once a tuple is defined, you cannot add, remove, or modify any of its elements. This immutability makes tuples a reliable way to store fixed collections of data that should remain constant throughout the program."
      ],
      "metadata": {
        "id": "zo3ly0Y9ZYZ6"
      }
    },
    {
      "cell_type": "markdown",
      "source": [
        "8. What is a hash table, and how does it relate to dictionaries in Python?"
      ],
      "metadata": {
        "id": "ywZyCGyTZtGG"
      }
    },
    {
      "cell_type": "markdown",
      "source": [
        "A hash table is a data structure that stores data in key-value pairs and uses a hash function to compute an index (called a hash) where each value is stored.\n",
        "hash tables are the underlying mechanism that makes Python dictionaries fast and efficient for key-based data storage and retrieval."
      ],
      "metadata": {
        "id": "sNcjTEChZtUJ"
      }
    },
    {
      "cell_type": "markdown",
      "source": [
        "9. Can lists contain different data types in Python?"
      ],
      "metadata": {
        "id": "VwGflQ9maev0"
      }
    },
    {
      "cell_type": "markdown",
      "source": [
        "Yes, lists in Python can contain different data types within the same list."
      ],
      "metadata": {
        "id": "jxdlhYYPae2k"
      }
    },
    {
      "cell_type": "markdown",
      "source": [
        "10. Explain why strings are immutable in Python?"
      ],
      "metadata": {
        "id": "saeOyxHNatFv"
      }
    },
    {
      "cell_type": "markdown",
      "source": [
        "Strings are immutable in Python because their contents cannot be changed after they are created. This immutability improves safety by preventing unexpected changes when the same string is used in different parts of a program. It also allows Python to optimize memory usage and makes strings reliable for use as dictionary keys or set elements. When you modify a string, Python creates a new string instead of altering the original, ensuring data consistency and simplifying program.\n"
      ],
      "metadata": {
        "id": "cvHdGh5xatYw"
      }
    },
    {
      "cell_type": "markdown",
      "source": [
        "11. What advantages do dictionaries offer over lists for certain tasks?"
      ],
      "metadata": {
        "id": "vZYsBo-mbIn_"
      }
    },
    {
      "cell_type": "markdown",
      "source": [
        "Dictionaries offer faster and more efficient data access than lists for tasks that involve looking up values by keys."
      ],
      "metadata": {
        "id": "kBpHe44obI6B"
      }
    },
    {
      "cell_type": "markdown",
      "source": [
        "12. Describe a scenario where using a tuple would be preferable over a list?"
      ],
      "metadata": {
        "id": "7i-fgMULbfqs"
      }
    },
    {
      "cell_type": "markdown",
      "source": [
        "Using a tuple is preferable over a list when you need to store a fixed set of values that should not change throughout the program , like when ur putting ur dob it always remain same."
      ],
      "metadata": {
        "id": "hwcUotHubf36"
      }
    },
    {
      "cell_type": "markdown",
      "source": [
        "13. How do sets handle duplicate values in Python?"
      ],
      "metadata": {
        "id": "rBzko6Zub4zk"
      }
    },
    {
      "cell_type": "markdown",
      "source": [
        "In Python, sets automatically remove duplicate values by storing only unique elements."
      ],
      "metadata": {
        "id": "eFryCJzfb5Ek"
      }
    },
    {
      "cell_type": "markdown",
      "source": [
        "14. How does the “in” keyword work differently for lists and dictionaries?"
      ],
      "metadata": {
        "id": "1gzuZc0BcNHd"
      }
    },
    {
      "cell_type": "markdown",
      "source": [
        "The in keyword checks for membership in both lists and dictionaries, but it works differently. In lists, it searches through all elements to see if a value exists, which can be slower for large lists. In dictionaries, in checks if a key exists using a fast hash lookup, making it much quicker."
      ],
      "metadata": {
        "id": "d-92v_nScNQ9"
      }
    },
    {
      "cell_type": "markdown",
      "source": [
        "15. Can you modify the elements of a tuple? Explain why or why not?"
      ],
      "metadata": {
        "id": "5nQ_QrlCctiL"
      }
    },
    {
      "cell_type": "markdown",
      "source": [
        "No, you cannot modify the elements of a tuple because tuples are immutable in Python."
      ],
      "metadata": {
        "id": "wRXvKi4ActvF"
      }
    },
    {
      "cell_type": "markdown",
      "source": [
        "16.  What is a nested dictionary, and give an example of its use case?"
      ],
      "metadata": {
        "id": "dWGqDm5dc8UG"
      }
    },
    {
      "cell_type": "markdown",
      "source": [
        "A nested dictionary is a dictionary where some of the values are themselves dictionaries. This allows you to organize complex, hierarchical data with multiple levels of key-value pairs.\n",
        "\n",
        "Example use case: Storing information about students, where each student has their own dictionary containing details like grades and contact info."
      ],
      "metadata": {
        "id": "9OaQI2hgc8jN"
      }
    },
    {
      "cell_type": "markdown",
      "source": [
        "17.  Describe the time complexity of accessing elements in a dictionary?"
      ],
      "metadata": {
        "id": "a7H2U86QdL4F"
      }
    },
    {
      "cell_type": "markdown",
      "source": [
        "Don't knw the answer"
      ],
      "metadata": {
        "id": "r-edbOLPdMHw"
      }
    },
    {
      "cell_type": "markdown",
      "source": [
        "18. In what situations are lists preferred over dictionaries?"
      ],
      "metadata": {
        "id": "lXkAwNlwdZOu"
      }
    },
    {
      "cell_type": "markdown",
      "source": [
        "Lists are preferred over dictionaries when you need to maintain ordered collections of items, especially if the order matters or you need to access elements by their position (index)."
      ],
      "metadata": {
        "id": "3L13r9n5dZap"
      }
    },
    {
      "cell_type": "markdown",
      "source": [
        "19. Why are dictionaries considered unordered, and how does that affect data retrieval?"
      ],
      "metadata": {
        "id": "GRg-3r_SdquQ"
      }
    },
    {
      "cell_type": "markdown",
      "source": [
        "Dictionaries were traditionally considered unordered because they didn’t maintain the order of items as they were added.\n",
        "However, this doesn’t affect data retrieval by key, which is always fast and direct"
      ],
      "metadata": {
        "id": "aiIgdcIDdq5E"
      }
    },
    {
      "cell_type": "markdown",
      "source": [
        "20. Explain the difference between a list and a dictionary in terms of data retrieval?"
      ],
      "metadata": {
        "id": "8LapL6DNeIQx"
      }
    },
    {
      "cell_type": "markdown",
      "source": [
        "The main difference between a list and a dictionary in data retrieval is how you access elements. In a list, you retrieve items by their index position, which can be slower if you need to search for a specific value. In a dictionary, you retrieve values directly using keys, which is much faster."
      ],
      "metadata": {
        "id": "ianHczxjeIoV"
      }
    },
    {
      "cell_type": "markdown",
      "source": [
        "1. Write a code to create a string with your name and print it?"
      ],
      "metadata": {
        "id": "zPE7j9MQtqfV"
      }
    },
    {
      "cell_type": "code",
      "source": [
        "name = \"Piyush\"\n",
        "print(name)"
      ],
      "metadata": {
        "colab": {
          "base_uri": "https://localhost:8080/"
        },
        "id": "EDlVxoubt3Bq",
        "outputId": "a5793eaf-eea1-4816-fcd8-8677cb1528f3"
      },
      "execution_count": 1,
      "outputs": [
        {
          "output_type": "stream",
          "name": "stdout",
          "text": [
            "Piyush\n"
          ]
        }
      ]
    },
    {
      "cell_type": "markdown",
      "source": [
        "2. Write a code to find the length of the string \"Hello World\"?"
      ],
      "metadata": {
        "id": "UwVx3Za8uDAs"
      }
    },
    {
      "cell_type": "code",
      "source": [
        "a = \"Hello World\"\n",
        "a = len(a)\n",
        "print(a)"
      ],
      "metadata": {
        "colab": {
          "base_uri": "https://localhost:8080/"
        },
        "id": "39Y--gF8uKT1",
        "outputId": "84ca9f69-0ff4-4fe6-ce3f-4a4eab7f0a84"
      },
      "execution_count": 2,
      "outputs": [
        {
          "output_type": "stream",
          "name": "stdout",
          "text": [
            "11\n"
          ]
        }
      ]
    },
    {
      "cell_type": "markdown",
      "source": [
        "3. Write a code to slice the first 3 characters from the string \"Python Programming\"?"
      ],
      "metadata": {
        "id": "E7QouXRbudSv"
      }
    },
    {
      "cell_type": "code",
      "source": [
        "a = \"Python Programming\"\n",
        "a = a[0:3]\n",
        "print(a)"
      ],
      "metadata": {
        "colab": {
          "base_uri": "https://localhost:8080/"
        },
        "id": "8IFyT5v8ulj8",
        "outputId": "106b1b48-b18c-4930-e81e-f14d9b147567"
      },
      "execution_count": 3,
      "outputs": [
        {
          "output_type": "stream",
          "name": "stdout",
          "text": [
            "Pyt\n"
          ]
        }
      ]
    },
    {
      "cell_type": "markdown",
      "source": [
        "4. Write a code to convert the string \"hello\" to uppercase?"
      ],
      "metadata": {
        "id": "Y7uswACmvP3V"
      }
    },
    {
      "cell_type": "code",
      "source": [
        "u = \"hello\"\n",
        "u = u.upper()\n",
        "print(u)"
      ],
      "metadata": {
        "colab": {
          "base_uri": "https://localhost:8080/"
        },
        "id": "uuDgtxtYvX4e",
        "outputId": "fe86fb87-4f16-4491-e554-c76efb374763"
      },
      "execution_count": 4,
      "outputs": [
        {
          "output_type": "stream",
          "name": "stdout",
          "text": [
            "HELLO\n"
          ]
        }
      ]
    },
    {
      "cell_type": "markdown",
      "source": [
        "5. Write a code to replace the word \"apple\" with \"orange\" in the string \"I like apple\"?"
      ],
      "metadata": {
        "id": "qHiAtwDgvkYA"
      }
    },
    {
      "cell_type": "code",
      "source": [
        "string = \"I like apple\"\n",
        "string = string.replace(\"apple\", \"orange\")\n",
        "print(string)"
      ],
      "metadata": {
        "colab": {
          "base_uri": "https://localhost:8080/"
        },
        "id": "79Q3giGRvwTo",
        "outputId": "fbb66d62-867e-4ab6-8ec6-f65a16f77a90"
      },
      "execution_count": 5,
      "outputs": [
        {
          "output_type": "stream",
          "name": "stdout",
          "text": [
            "I like orange\n"
          ]
        }
      ]
    },
    {
      "cell_type": "markdown",
      "source": [
        "6. Write a code to create a list with numbers 1 to 5 and print it?"
      ],
      "metadata": {
        "id": "5jzjVvwIwEFn"
      }
    },
    {
      "cell_type": "code",
      "source": [
        "c = [1,2,3,4,5]\n",
        "print(c)"
      ],
      "metadata": {
        "colab": {
          "base_uri": "https://localhost:8080/"
        },
        "id": "gHwJVM0rwMt2",
        "outputId": "658eab8a-1adb-4f4d-9083-2b3c257a1a91"
      },
      "execution_count": 6,
      "outputs": [
        {
          "output_type": "stream",
          "name": "stdout",
          "text": [
            "[1, 2, 3, 4, 5]\n"
          ]
        }
      ]
    },
    {
      "cell_type": "markdown",
      "source": [
        "7. Write a code to append the number 10 to the list [1, 2, 3, 4]?"
      ],
      "metadata": {
        "id": "4w3etzD3w2l7"
      }
    },
    {
      "cell_type": "code",
      "source": [
        "l = [1,2,3,4]\n",
        "l.append(10)\n",
        "print(l)"
      ],
      "metadata": {
        "colab": {
          "base_uri": "https://localhost:8080/"
        },
        "id": "-eoLPWDoxFRK",
        "outputId": "f82df624-267c-4477-efe6-529b8d88d27a"
      },
      "execution_count": 7,
      "outputs": [
        {
          "output_type": "stream",
          "name": "stdout",
          "text": [
            "[1, 2, 3, 4, 10]\n"
          ]
        }
      ]
    },
    {
      "cell_type": "markdown",
      "source": [
        "8. Write a code to remove the number 3 from the list [1, 2, 3, 4, 5]?"
      ],
      "metadata": {
        "id": "mGYlrccaxRs7"
      }
    },
    {
      "cell_type": "code",
      "source": [
        "l = [1,2,3,4,5]\n",
        "l.remove(3)\n",
        "print(l)"
      ],
      "metadata": {
        "colab": {
          "base_uri": "https://localhost:8080/"
        },
        "id": "2W9bUDEvxe8n",
        "outputId": "7b3c2895-2225-4d5e-d1f6-99e0c395459b"
      },
      "execution_count": 8,
      "outputs": [
        {
          "output_type": "stream",
          "name": "stdout",
          "text": [
            "[1, 2, 4, 5]\n"
          ]
        }
      ]
    },
    {
      "cell_type": "markdown",
      "source": [
        "9.  Write a code to access the second element in the list ['a', 'b', 'c', 'd']?"
      ],
      "metadata": {
        "id": "WvKv67Z5xrPh"
      }
    },
    {
      "cell_type": "code",
      "source": [
        "l = ['a','b','c','d']\n",
        "l[1]"
      ],
      "metadata": {
        "colab": {
          "base_uri": "https://localhost:8080/",
          "height": 36
        },
        "id": "RTuOYBiyx0Kk",
        "outputId": "c9e943e2-8019-4546-cd83-51f5f123d627"
      },
      "execution_count": 2,
      "outputs": [
        {
          "output_type": "execute_result",
          "data": {
            "text/plain": [
              "'b'"
            ],
            "application/vnd.google.colaboratory.intrinsic+json": {
              "type": "string"
            }
          },
          "metadata": {},
          "execution_count": 2
        }
      ]
    },
    {
      "cell_type": "markdown",
      "source": [
        "10. Write a code to reverse the list [10, 20, 30, 40, 50]."
      ],
      "metadata": {
        "id": "6eqKpum9gbUa"
      }
    },
    {
      "cell_type": "code",
      "source": [
        "l = [10,20,30,40,50]\n",
        "l1=l[::-1]\n",
        "print(l1)\n"
      ],
      "metadata": {
        "colab": {
          "base_uri": "https://localhost:8080/"
        },
        "id": "RHPsHFzcgjhw",
        "outputId": "af2f6140-87b1-45fc-dd04-bb429bc72195"
      },
      "execution_count": 15,
      "outputs": [
        {
          "output_type": "stream",
          "name": "stdout",
          "text": [
            "[50, 40, 30, 20, 10]\n"
          ]
        }
      ]
    },
    {
      "cell_type": "markdown",
      "source": [
        "11. Write a code to create a tuple with the elements 100, 200, 300 and print it."
      ],
      "metadata": {
        "id": "nuOnAnDshSaI"
      }
    },
    {
      "cell_type": "code",
      "source": [
        "t = (100,200,300)\n",
        "print(t)\n",
        "type(t)"
      ],
      "metadata": {
        "colab": {
          "base_uri": "https://localhost:8080/"
        },
        "id": "O5d4k4F-hYd_",
        "outputId": "3b5522ab-00a4-4759-f238-21857e6be0f4"
      },
      "execution_count": 16,
      "outputs": [
        {
          "output_type": "stream",
          "name": "stdout",
          "text": [
            "(100, 200, 300)\n"
          ]
        },
        {
          "output_type": "execute_result",
          "data": {
            "text/plain": [
              "tuple"
            ]
          },
          "metadata": {},
          "execution_count": 16
        }
      ]
    },
    {
      "cell_type": "markdown",
      "source": [
        "12. Write a code to access the second-to-last element of the tuple ('red', 'green', 'blue', 'yellow')."
      ],
      "metadata": {
        "id": "yI7DpyRqhnug"
      }
    },
    {
      "cell_type": "code",
      "source": [
        "t = ('red','green','blue','yellow')\n",
        "t1 = t[-2]\n",
        "print(t1)\n",
        "type(t)"
      ],
      "metadata": {
        "colab": {
          "base_uri": "https://localhost:8080/"
        },
        "id": "uvbHGh5jhwrK",
        "outputId": "05b26683-f40d-461b-c0ba-12b86aaefa1e"
      },
      "execution_count": 26,
      "outputs": [
        {
          "output_type": "stream",
          "name": "stdout",
          "text": [
            "blue\n"
          ]
        },
        {
          "output_type": "execute_result",
          "data": {
            "text/plain": [
              "tuple"
            ]
          },
          "metadata": {},
          "execution_count": 26
        }
      ]
    },
    {
      "cell_type": "markdown",
      "source": [
        "13. Write a code to find the minimum number in the tuple (10, 20, 5, 15)."
      ],
      "metadata": {
        "id": "-PxsrQv1jN2l"
      }
    },
    {
      "cell_type": "code",
      "source": [
        "t = (10,20,5,15)\n",
        "t1 = min(t)\n",
        "t2 = max(t)\n",
        "print(t1)\n",
        "print(t2)"
      ],
      "metadata": {
        "colab": {
          "base_uri": "https://localhost:8080/"
        },
        "id": "tmBL1w5MjOGV",
        "outputId": "86a4aa06-f705-48cc-9c91-8da999e860e1"
      },
      "execution_count": 33,
      "outputs": [
        {
          "output_type": "stream",
          "name": "stdout",
          "text": [
            "5\n",
            "20\n"
          ]
        }
      ]
    },
    {
      "cell_type": "markdown",
      "source": [
        "14. Write a code to find the index of the element \"cat\" in the tuple ('dog', 'cat', 'rabbit')."
      ],
      "metadata": {
        "id": "GTCpXsjZujG6"
      }
    },
    {
      "cell_type": "code",
      "source": [
        "t = ('dog','cat','rabbit')\n",
        "t1 = t.index('cat')\n",
        "print(t1)"
      ],
      "metadata": {
        "colab": {
          "base_uri": "https://localhost:8080/"
        },
        "id": "0P8tM82Suokt",
        "outputId": "af8f840c-6a61-4d5d-edda-95586273f387"
      },
      "execution_count": 34,
      "outputs": [
        {
          "output_type": "stream",
          "name": "stdout",
          "text": [
            "1\n"
          ]
        }
      ]
    },
    {
      "cell_type": "markdown",
      "source": [
        "15. Write a code to create a tuple containing three different fruits and check if \"kiwi\" is in it."
      ],
      "metadata": {
        "id": "USHHixbruyhF"
      }
    },
    {
      "cell_type": "code",
      "source": [
        "t = (\"apple\",\"banana\",\"kiwi\")\n",
        "print(\"kiwi\" in t)"
      ],
      "metadata": {
        "colab": {
          "base_uri": "https://localhost:8080/"
        },
        "id": "EUupOy8Huxgu",
        "outputId": "7179912f-9390-4111-bd04-be4136dbde14"
      },
      "execution_count": 39,
      "outputs": [
        {
          "output_type": "stream",
          "name": "stdout",
          "text": [
            "True\n"
          ]
        }
      ]
    },
    {
      "cell_type": "markdown",
      "source": [
        "16. Write a code to create a set with the elements 'a', 'b', 'c' and print it."
      ],
      "metadata": {
        "id": "jKvRl5UpvZnu"
      }
    },
    {
      "cell_type": "code",
      "source": [
        "s = {\"a\",\"b\",\"c\"}\n",
        "print(s)\n",
        "type(s)"
      ],
      "metadata": {
        "colab": {
          "base_uri": "https://localhost:8080/"
        },
        "id": "NXi4PW8KvZ0e",
        "outputId": "53e95bb9-bb67-4f45-9a48-b96a0af5b264"
      },
      "execution_count": 41,
      "outputs": [
        {
          "output_type": "stream",
          "name": "stdout",
          "text": [
            "{'b', 'c', 'a'}\n"
          ]
        },
        {
          "output_type": "execute_result",
          "data": {
            "text/plain": [
              "set"
            ]
          },
          "metadata": {},
          "execution_count": 41
        }
      ]
    },
    {
      "cell_type": "markdown",
      "source": [
        "17. Write a code to clear all elements from the set {1, 2, 3, 4, 5}."
      ],
      "metadata": {
        "id": "6FLVM94UvmqV"
      }
    },
    {
      "cell_type": "code",
      "source": [
        "s = {1,2,3,4,5}\n",
        "s.clear()\n",
        "print(s)"
      ],
      "metadata": {
        "colab": {
          "base_uri": "https://localhost:8080/"
        },
        "id": "6jWNSP1Bvm4g",
        "outputId": "1d3a3f67-5908-4680-d78c-ca28c69739a4"
      },
      "execution_count": 42,
      "outputs": [
        {
          "output_type": "stream",
          "name": "stdout",
          "text": [
            "set()\n"
          ]
        }
      ]
    },
    {
      "cell_type": "markdown",
      "source": [
        "18. Write a code to remove the element 4 from the set {1, 2, 3, 4}."
      ],
      "metadata": {
        "id": "mqibsTh8v-Ly"
      }
    },
    {
      "cell_type": "code",
      "source": [
        "s = {1,2,3,4}\n",
        "s.remove(4)\n",
        "print(s)"
      ],
      "metadata": {
        "colab": {
          "base_uri": "https://localhost:8080/"
        },
        "id": "hKAo3SA5v-iD",
        "outputId": "261b7510-a22a-4878-d8f0-24adfe9614e2"
      },
      "execution_count": 43,
      "outputs": [
        {
          "output_type": "stream",
          "name": "stdout",
          "text": [
            "{1, 2, 3}\n"
          ]
        }
      ]
    },
    {
      "cell_type": "markdown",
      "source": [
        "19. Write a code to find the union of two sets {1, 2, 3} and {3, 4, 5}."
      ],
      "metadata": {
        "id": "4f4sa3jiwU9N"
      }
    },
    {
      "cell_type": "code",
      "source": [
        "s1 = {1,2,3}\n",
        "s2 = {3,4,5}\n",
        "s3 = s1 | s2\n",
        "print(s3)"
      ],
      "metadata": {
        "colab": {
          "base_uri": "https://localhost:8080/"
        },
        "id": "ftNjr18UwVaN",
        "outputId": "fe6e42a8-09bb-4637-90b4-0c831aeb34f2"
      },
      "execution_count": 49,
      "outputs": [
        {
          "output_type": "stream",
          "name": "stdout",
          "text": [
            "{1, 2, 3, 4, 5}\n"
          ]
        }
      ]
    },
    {
      "cell_type": "markdown",
      "source": [
        "20. Write a code to find the intersection of two sets {1, 2, 3} and {2, 3, 4}."
      ],
      "metadata": {
        "id": "5NR4Y4SQxLQ-"
      }
    },
    {
      "cell_type": "code",
      "source": [
        "s1 = {1,2,3}\n",
        "s2 = {2,3,4}\n",
        "s3 = s1 & s2\n",
        "print(s3)\n"
      ],
      "metadata": {
        "colab": {
          "base_uri": "https://localhost:8080/"
        },
        "id": "rS5Hjz5jxLk6",
        "outputId": "251656cf-40d6-46d7-838c-5f5cf8ded44c"
      },
      "execution_count": 52,
      "outputs": [
        {
          "output_type": "stream",
          "name": "stdout",
          "text": [
            "{2, 3}\n"
          ]
        }
      ]
    },
    {
      "cell_type": "markdown",
      "source": [
        "21. Write a code to create a dictionary with the keys \"name\", \"age\", and \"city\", and print it."
      ],
      "metadata": {
        "id": "mUEivGGax482"
      }
    },
    {
      "cell_type": "code",
      "source": [
        "d = {\"name\":\"Piyush\",\"age\":20,\"city\":\"Lucknow\"}\n",
        "print(d)\n",
        "type(d)"
      ],
      "metadata": {
        "colab": {
          "base_uri": "https://localhost:8080/"
        },
        "id": "sC0QGhv6x1EY",
        "outputId": "f197ec98-c815-4eab-f879-d349dc1009b1"
      },
      "execution_count": 53,
      "outputs": [
        {
          "output_type": "stream",
          "name": "stdout",
          "text": [
            "{'name': 'Piyush', 'age': 20, 'city': 'Lucknow'}\n"
          ]
        },
        {
          "output_type": "execute_result",
          "data": {
            "text/plain": [
              "dict"
            ]
          },
          "metadata": {},
          "execution_count": 53
        }
      ]
    },
    {
      "cell_type": "markdown",
      "source": [
        "22. Write a code to add a new key-value pair \"country\": \"USA\" to the dictionary {'name': 'John', 'age': 25}"
      ],
      "metadata": {
        "id": "7Dma1aybyMqq"
      }
    },
    {
      "cell_type": "code",
      "source": [
        "d = {'name': 'John', 'age': 25}\n",
        "d[\"country\"] = \"USA\"\n",
        "print(d)"
      ],
      "metadata": {
        "colab": {
          "base_uri": "https://localhost:8080/"
        },
        "id": "GfSzDZfwyM9R",
        "outputId": "88099e43-f124-440e-ddee-c8f21e846cdf"
      },
      "execution_count": 54,
      "outputs": [
        {
          "output_type": "stream",
          "name": "stdout",
          "text": [
            "{'name': 'John', 'age': 25, 'country': 'USA'}\n"
          ]
        }
      ]
    },
    {
      "cell_type": "markdown",
      "source": [
        "23. Write a code to access the value associated with the key \"name\" in the dictionary {'name': 'Alice', 'age': 30}"
      ],
      "metadata": {
        "id": "Ai0yCmV2yoHO"
      }
    },
    {
      "cell_type": "code",
      "source": [
        "d = {'name': 'Alice', 'age': 30}\n",
        "print(d[\"name\"])"
      ],
      "metadata": {
        "colab": {
          "base_uri": "https://localhost:8080/"
        },
        "id": "8APoaRYpypMV",
        "outputId": "ce8d9f0c-1e14-415f-d834-f37777c114da"
      },
      "execution_count": 55,
      "outputs": [
        {
          "output_type": "stream",
          "name": "stdout",
          "text": [
            "Alice\n"
          ]
        }
      ]
    },
    {
      "cell_type": "markdown",
      "source": [
        "24. Write a code to remove the key \"age\" from the dictionary {'name': 'Bob', 'age': 22, 'city': 'New York'}."
      ],
      "metadata": {
        "id": "-Ng79HQMyvVf"
      }
    },
    {
      "cell_type": "code",
      "source": [
        "d = {'name': 'Bob', 'age': 22, 'city': 'New York'}\n",
        "del d[\"age\"]\n",
        "print(d)"
      ],
      "metadata": {
        "colab": {
          "base_uri": "https://localhost:8080/"
        },
        "id": "wEAJz5awyviF",
        "outputId": "77b4731e-1447-46a3-9684-6920ff0770b7"
      },
      "execution_count": 56,
      "outputs": [
        {
          "output_type": "stream",
          "name": "stdout",
          "text": [
            "{'name': 'Bob', 'city': 'New York'}\n"
          ]
        }
      ]
    },
    {
      "cell_type": "markdown",
      "source": [
        "25. Write a code to check if the key \"city\" exists in the dictionary {'name': 'Alice', 'city': 'Paris'}.\n",
        "\n"
      ],
      "metadata": {
        "id": "-KRdhvjJy-82"
      }
    },
    {
      "cell_type": "code",
      "source": [
        "d = {'name': 'Alice', 'city': 'Paris'}\n",
        "print(\"city\" in d)"
      ],
      "metadata": {
        "colab": {
          "base_uri": "https://localhost:8080/"
        },
        "id": "fbEXzcxVy_IN",
        "outputId": "34eb951f-7162-443d-ba42-bb308ddf3ad1"
      },
      "execution_count": 59,
      "outputs": [
        {
          "output_type": "stream",
          "name": "stdout",
          "text": [
            "True\n"
          ]
        }
      ]
    },
    {
      "cell_type": "markdown",
      "source": [
        "26. Write a code to create a list, a tuple, and a dictionary, and print them all."
      ],
      "metadata": {
        "id": "ZGsFczwFzNF7"
      }
    },
    {
      "cell_type": "code",
      "source": [
        "l = [1,2,3,4]\n",
        "t = (1,2,3,4)\n",
        "d = {\"name\":\"Piyush\",\"age\":20,\"city\":\"Lucknow\"}\n",
        "print(l, type(l))\n",
        "print(t , type(t))\n",
        "print(d, type(d))"
      ],
      "metadata": {
        "colab": {
          "base_uri": "https://localhost:8080/"
        },
        "id": "MjYcjIO8zNU7",
        "outputId": "967b75aa-03c1-4798-99f2-3ba76fd5e070"
      },
      "execution_count": 62,
      "outputs": [
        {
          "output_type": "stream",
          "name": "stdout",
          "text": [
            "[1, 2, 3, 4] <class 'list'>\n",
            "(1, 2, 3, 4) <class 'tuple'>\n",
            "{'name': 'Piyush', 'age': 20, 'city': 'Lucknow'} <class 'dict'>\n"
          ]
        }
      ]
    },
    {
      "cell_type": "markdown",
      "source": [
        "27. Write a code to create a list of 5 random numbers between 1 and 100, sort it in ascending order, and print the\n",
        "result.(replaced)"
      ],
      "metadata": {
        "id": "rf7YMFHnzszI"
      }
    },
    {
      "cell_type": "code",
      "source": [
        "num = [20,10,50,45,60]\n",
        "num.sort()\n",
        "print(num)"
      ],
      "metadata": {
        "colab": {
          "base_uri": "https://localhost:8080/"
        },
        "id": "WefhbmrLztGE",
        "outputId": "e5a9214b-b31d-4021-8e9b-b7afafe501d2"
      },
      "execution_count": 64,
      "outputs": [
        {
          "output_type": "stream",
          "name": "stdout",
          "text": [
            "[10, 20, 45, 50, 60]\n"
          ]
        }
      ]
    },
    {
      "cell_type": "markdown",
      "source": [
        "28. Write a code to create a list with strings and print the element at the third index"
      ],
      "metadata": {
        "id": "ozYIadWG0YAQ"
      }
    },
    {
      "cell_type": "code",
      "source": [
        "l = [\"Piyush\",\"Peehul\",\"Ram\",\"Vinay\",\"Preeti\"]\n",
        "print (l[3])"
      ],
      "metadata": {
        "colab": {
          "base_uri": "https://localhost:8080/"
        },
        "id": "v424lAuk0bUX",
        "outputId": "97438f7f-82c2-496a-f5aa-96cf77ea5b09"
      },
      "execution_count": 66,
      "outputs": [
        {
          "output_type": "stream",
          "name": "stdout",
          "text": [
            "Vinay\n"
          ]
        }
      ]
    },
    {
      "cell_type": "markdown",
      "source": [
        "29. Write a code to combine two dictionaries into one and print the result."
      ],
      "metadata": {
        "id": "F3iSxeQA1Ger"
      }
    },
    {
      "cell_type": "code",
      "source": [
        "d1 = {\"name\":\"Piyush\",\"age\":20,\"city\":\"Lucknow\"}\n",
        "d2 = {\"state\":\"Punjab\",\"pincode\":2020}\n",
        "d3 = d1 | d2\n",
        "print(d3)\n"
      ],
      "metadata": {
        "colab": {
          "base_uri": "https://localhost:8080/"
        },
        "id": "I19Mfw8P1Gtq",
        "outputId": "ec8b96bf-6a80-4133-c7b3-a822e3bd26a9"
      },
      "execution_count": 83,
      "outputs": [
        {
          "output_type": "stream",
          "name": "stdout",
          "text": [
            "{'name': 'Piyush', 'age': 20, 'city': 'Lucknow', 'state': 'Punjab', 'pincode': 2020}\n"
          ]
        }
      ]
    },
    {
      "cell_type": "markdown",
      "source": [
        "30. Write a code to convert a list of strings into a set."
      ],
      "metadata": {
        "id": "_T3XzWA63jif"
      }
    },
    {
      "cell_type": "code",
      "source": [
        "l = [\"Piyush\",\"Peehul\",\"Ram\",\"Vinay\",\"Preeti\"]\n",
        "s = set(l)\n",
        "print(s)\n",
        "type(s)"
      ],
      "metadata": {
        "colab": {
          "base_uri": "https://localhost:8080/"
        },
        "id": "Zns_M06_3j1o",
        "outputId": "f098c13e-4a46-46d7-9101-52f648cee562"
      },
      "execution_count": 86,
      "outputs": [
        {
          "output_type": "stream",
          "name": "stdout",
          "text": [
            "{'Preeti', 'Peehul', 'Piyush', 'Ram', 'Vinay'}\n"
          ]
        },
        {
          "output_type": "execute_result",
          "data": {
            "text/plain": [
              "set"
            ]
          },
          "metadata": {},
          "execution_count": 86
        }
      ]
    }
  ]
}